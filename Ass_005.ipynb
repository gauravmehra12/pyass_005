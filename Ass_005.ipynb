{
 "cells": [
  {
   "cell_type": "markdown",
   "id": "3803e74d",
   "metadata": {},
   "source": [
    "Q1. What does an empty dictionary's code look like?"
   ]
  },
  {
   "cell_type": "code",
   "execution_count": 1,
   "id": "359aeb2e",
   "metadata": {},
   "outputs": [
    {
     "data": {
      "text/plain": [
       "dict"
      ]
     },
     "execution_count": 1,
     "metadata": {},
     "output_type": "execute_result"
    }
   ],
   "source": [
    "#ans1.\n",
    "d  = {}\n",
    "type(d)"
   ]
  },
  {
   "cell_type": "markdown",
   "id": "dc604a1c",
   "metadata": {},
   "source": [
    "Q2. What is the value of a dictionary value with the key 'foo' and the value 42?"
   ]
  },
  {
   "cell_type": "code",
   "execution_count": 2,
   "id": "af1c4861",
   "metadata": {},
   "outputs": [
    {
     "data": {
      "text/plain": [
       "{'foo': 42}"
      ]
     },
     "execution_count": 2,
     "metadata": {},
     "output_type": "execute_result"
    }
   ],
   "source": [
    "#ans2.\n",
    "d = {\"foo\":42}\n",
    "d"
   ]
  },
  {
   "cell_type": "markdown",
   "id": "9e3239b0",
   "metadata": {},
   "source": [
    "Q3. What is the most significant distinction between a dictionary and a list?"
   ]
  },
  {
   "cell_type": "code",
   "execution_count": null,
   "id": "6795a37a",
   "metadata": {},
   "outputs": [],
   "source": [
    "#ans3.\n",
    "# List is an odered collection of data while dictionary contains key and value pair.\n",
    "# list have indexes for the items inside it\n",
    "# While dictionary values are accessed by its respective keys not by positon (like list)."
   ]
  },
  {
   "cell_type": "markdown",
   "id": "73ad0e93",
   "metadata": {},
   "source": [
    "Q4. What happens if you try to access spam['foo'] if spam is {'bar': 100}?"
   ]
  },
  {
   "cell_type": "code",
   "execution_count": null,
   "id": "f81c828f",
   "metadata": {},
   "outputs": [],
   "source": [
    "#ans4.\n",
    "# KeyError as 'foo' key is not available in dictionay spam"
   ]
  },
  {
   "cell_type": "markdown",
   "id": "7ea9d47e",
   "metadata": {},
   "source": [
    "Q5. If a dictionary is stored in spam, what is the difference between the expressions 'cat' in spam and 'cat' in spam.keys()?"
   ]
  },
  {
   "cell_type": "code",
   "execution_count": null,
   "id": "1c825051",
   "metadata": {},
   "outputs": [],
   "source": [
    "#ans5.\n",
    "# There is no difference as both will check some key = 'cat' is available in spam\n",
    "# and accordingly returns True and False"
   ]
  },
  {
   "cell_type": "markdown",
   "id": "998b8087",
   "metadata": {},
   "source": [
    "Q6. If a dictionary is stored in spam, what is the difference between the expressions 'cat' in spam and 'cat' in spam.values()?"
   ]
  },
  {
   "cell_type": "code",
   "execution_count": null,
   "id": "b703f6c5",
   "metadata": {},
   "outputs": [],
   "source": [
    "#ans6.\n",
    "#'cat' in spam will check some key = 'cat' is available in dictionary spam\n",
    "#'cat' in spam.values() will check some value = 'cat' is available in list of values of dictionary spam."
   ]
  },
  {
   "cell_type": "markdown",
   "id": "159c5c20",
   "metadata": {},
   "source": [
    "Q7. What is a shortcut for the following code?\n",
    "```\n",
    "if 'color' not in spam:\n",
    "spam['color'] = 'black'\n",
    "```"
   ]
  },
  {
   "cell_type": "code",
   "execution_count": null,
   "id": "cfcc6eb8",
   "metadata": {},
   "outputs": [],
   "source": [
    "#ans7.\n",
    "spam.setdefault(\"color\" , \"black\")"
   ]
  },
  {
   "cell_type": "markdown",
   "id": "83e98669",
   "metadata": {},
   "source": [
    "Q8. How do you \"pretty print\" dictionary values using which module and function?"
   ]
  },
  {
   "cell_type": "code",
   "execution_count": 3,
   "id": "e8e71d90",
   "metadata": {},
   "outputs": [
    {
     "name": "stdout",
     "output_type": "stream",
     "text": [
      "{'cat': 'cajkafsdt', 'foo': 23498, '45': {1: 2, 2: 33, 3: 444}, 'op': [3, 5, 2, 78, 4, 3232]}\n",
      "*****difference between print and pretty print*****\n",
      "{'45': {1: 2, 2: 33, 3: 444},\n",
      " 'cat': 'cajkafsdt',\n",
      " 'foo': 23498,\n",
      " 'op': [3, 5, 2, 78, 4, 3232]}\n"
     ]
    }
   ],
   "source": [
    "#ans8.\n",
    "import pprint\n",
    "# if we will import pprint module then pprint() and pformat method will be available which will \"pretty print\"dictionary values.\n",
    "spam = {'cat': 'cajkafsdt','foo':23498,'45':{1:2,2:33,3:444},'op':[3,5,2,78,4,3232]}\n",
    "print(spam)\n",
    "print(\"*****difference between print and pretty print*****\")\n",
    "pprint.pprint(spam)"
   ]
  },
  {
   "cell_type": "code",
   "execution_count": null,
   "id": "5266a265",
   "metadata": {},
   "outputs": [],
   "source": []
  }
 ],
 "metadata": {
  "kernelspec": {
   "display_name": "Python 3 (ipykernel)",
   "language": "python",
   "name": "python3"
  },
  "language_info": {
   "codemirror_mode": {
    "name": "ipython",
    "version": 3
   },
   "file_extension": ".py",
   "mimetype": "text/x-python",
   "name": "python",
   "nbconvert_exporter": "python",
   "pygments_lexer": "ipython3",
   "version": "3.9.12"
  }
 },
 "nbformat": 4,
 "nbformat_minor": 5
}
